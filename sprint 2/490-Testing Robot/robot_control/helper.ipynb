{
 "cells": [
  {
   "cell_type": "markdown",
   "id": "354d38a8-d6c6-42c6-9738-b15ebdf62552",
   "metadata": {},
   "source": [
    "### Helper to push and pull from pi\n"
   ]
  },
  {
   "cell_type": "code",
   "execution_count": 3,
   "id": "63d10f6c-89fc-4bc3-a965-b40b85e7a48a",
   "metadata": {},
   "outputs": [
    {
     "name": "stdout",
     "output_type": "stream",
     "text": [
      "\n",
      "🔗 Connecting to Raspberry Pi...\n",
      "\n",
      "🔹 Available actions:\n",
      "   - Type 'pull' to **download** files from Raspberry Pi to your computer.\n",
      "   - Type 'push' to **upload** files from your computer to Raspberry Pi.\n"
     ]
    },
    {
     "name": "stdin",
     "output_type": "stream",
     "text": [
      "\n",
      "🔄 Enter 'pull' or 'push':  push\n"
     ]
    },
    {
     "name": "stdout",
     "output_type": "stream",
     "text": [
      "\n",
      "📂 Current directory:\n",
      "   C:\\Users\\Hat_Shed\\Desktop\\490-Testing Robot\\robot_control\n",
      "\n",
      "📜 Available files to upload:\n",
      "  [1] helper.ipynb\n",
      "  [2] Motor.py\n",
      "  [3] robot_server.py\n",
      "  [4] servo.py\n",
      "  [5] __pycache__\n",
      "\n",
      "🔹 Enter the file numbers you want to push (comma-separated), or type 'all' to upload everything.\n",
      "   Example: '1,3' will upload files 1 and 3.\n",
      "   Example: 'all' will upload all files.\n"
     ]
    },
    {
     "name": "stdin",
     "output_type": "stream",
     "text": [
      "\n",
      "📤 Enter your choice:  2\n"
     ]
    },
    {
     "name": "stdout",
     "output_type": "stream",
     "text": [
      "\n",
      "⬆️ Uploading selected files to Raspberry Pi (/home/shah/robot_control):\n",
      "  ✅ Uploading Motor.py...\n",
      "\n",
      "✅ Push complete! Selected files have been uploaded.\n",
      "\n",
      "🔌 Disconnected from Raspberry Pi.\n"
     ]
    }
   ],
   "source": [
    "import paramiko\n",
    "import os\n",
    "\n",
    "# Raspberry Pi SSH Credentials: \n",
    "RASPBERRY_PI_IP = \"100.73.143.76\"  # Replace with your actual Pi's IP\n",
    "USERNAME = \"shah\"  # Your Pi username\n",
    "PASSWORD = \"123456\"  # If using SSH key, remove this\n",
    "REMOTE_DIR = \"/home/shah/robot_control\"  # Pi directory\n",
    "LOCAL_DIR = os.getcwd()  # Automatically use the current directory\n",
    "\n",
    "# Initialize SSH & SFTP clients\n",
    "ssh = paramiko.SSHClient()\n",
    "ssh.set_missing_host_key_policy(paramiko.AutoAddPolicy())\n",
    "\n",
    "try:\n",
    "    print(\"\\n🔗 Connecting to Raspberry Pi...\")\n",
    "    ssh.connect(RASPBERRY_PI_IP, username=USERNAME, password=PASSWORD)\n",
    "\n",
    "    sftp = ssh.open_sftp()\n",
    "    \n",
    "    def pull_files():\n",
    "        \"\"\"Download all files from the Pi's robot_control folder to Windows (current directory).\"\"\"\n",
    "        print(\"\\n📥 Pulling files from Raspberry Pi to your local directory:\")\n",
    "        print(f\"   Remote: {REMOTE_DIR}\")\n",
    "        print(f\"   Local : {LOCAL_DIR}\\n\")\n",
    "\n",
    "        for file in sftp.listdir(REMOTE_DIR):\n",
    "            remote_path = f\"{REMOTE_DIR}/{file}\"\n",
    "            local_path = os.path.join(LOCAL_DIR, file)\n",
    "\n",
    "            # Check if it's a file (skip directories like __pycache__)\n",
    "            try:\n",
    "                if sftp.stat(remote_path).st_mode & 0o170000 == 0o100000:  # Regular file\n",
    "                    print(f\"  ✅ Downloading {file}...\")\n",
    "                    sftp.get(remote_path, local_path)\n",
    "                else:\n",
    "                    print(f\"  🚫 Skipping directory: {file}\")\n",
    "            except Exception as e:\n",
    "                print(f\"  ❌ Error downloading {file}: {e}\")\n",
    "        \n",
    "        print(\"\\n✅ Pull complete! All files are now in your local directory.\")\n",
    "\n",
    "    def push_files():\n",
    "        \"\"\"Upload specific files from the current directory to Raspberry Pi.\"\"\"\n",
    "        print(\"\\n📂 Current directory:\")\n",
    "        print(f\"   {LOCAL_DIR}\\n\")\n",
    "        \n",
    "        files = os.listdir(LOCAL_DIR)\n",
    "        files = [f for f in files if os.path.isfile(f)]  # Only show files, not directories\n",
    "        \n",
    "        if not files:\n",
    "            print(\"❌ No files found in the current directory.\")\n",
    "            return\n",
    "\n",
    "        # Show available files\n",
    "        print(\"📜 Available files to upload:\")\n",
    "        for idx, file in enumerate(files):\n",
    "            print(f\"  [{idx + 1}] {file}\")\n",
    "\n",
    "        # Let the user choose files to upload\n",
    "        print(\"\\n🔹 Enter the file numbers you want to push (comma-separated), or type 'all' to upload everything.\")\n",
    "        print(\"   Example: '1,3' will upload files 1 and 3.\")\n",
    "        print(\"   Example: 'all' will upload all files.\")\n",
    "        \n",
    "        selections = input(\"\\n📤 Enter your choice: \").strip().lower()\n",
    "\n",
    "        if selections == \"all\":\n",
    "            selected_files = files\n",
    "        else:\n",
    "            try:\n",
    "                selected_files = [files[int(i) - 1] for i in selections.split(\",\") if i.isdigit()]\n",
    "            except (IndexError, ValueError):\n",
    "                print(\"❌ Invalid selection. Please enter valid file numbers.\")\n",
    "                return\n",
    "\n",
    "        print(f\"\\n⬆️ Uploading selected files to Raspberry Pi ({REMOTE_DIR}):\")\n",
    "        for file in selected_files:\n",
    "            local_path = os.path.join(LOCAL_DIR, file)\n",
    "            remote_path = f\"{REMOTE_DIR}/{file}\"\n",
    "\n",
    "            try:\n",
    "                print(f\"  ✅ Uploading {file}...\")\n",
    "                sftp.put(local_path, remote_path)\n",
    "            except Exception as e:\n",
    "                print(f\"  ❌ Error uploading {file}: {e}\")\n",
    "\n",
    "        print(\"\\n✅ Push complete! Selected files have been uploaded.\")\n",
    "\n",
    "    # Choose whether to pull or push\n",
    "    print(\"\\n🔹 Available actions:\")\n",
    "    print(\"   - Type 'pull' to **download** files from Raspberry Pi to your computer.\")\n",
    "    print(\"   - Type 'push' to **upload** files from your computer to Raspberry Pi.\")\n",
    "    \n",
    "    action = input(\"\\n🔄 Enter 'pull' or 'push': \").strip().lower()\n",
    "    \n",
    "    if action == \"pull\":\n",
    "        pull_files()\n",
    "    elif action == \"push\":\n",
    "        push_files()\n",
    "    else:\n",
    "        print(\"❌ Invalid option. Please enter 'pull' or 'push'.\")\n",
    "\n",
    "except Exception as e:\n",
    "    print(f\"❌ Error: {e}\")\n",
    "\n",
    "finally:\n",
    "    sftp.close()\n",
    "    ssh.close()\n",
    "    print(\"\\n🔌 Disconnected from Raspberry Pi.\")\n"
   ]
  },
  {
   "cell_type": "markdown",
   "id": "57314fbe-b027-458d-8f9e-6aaad94b9b51",
   "metadata": {},
   "source": [
    "### Helper To run remote server:"
   ]
  },
  {
   "cell_type": "code",
   "execution_count": 9,
   "id": "d4a0b203-a602-443b-a400-0bfc0126891f",
   "metadata": {},
   "outputs": [
    {
     "name": "stdout",
     "output_type": "stream",
     "text": [
      "\n",
      "🔗 Connecting to Raspberry Pi...\n",
      "🚀 Starting robot server on Raspberry Pi...\n",
      "Please ssh and run sudo pigpiod in terminal\n",
      "🔌 Disconnected from Raspberry Pi.\n"
     ]
    }
   ],
   "source": [
    "import paramiko\n",
    "\n",
    "# Raspberry Pi SSH Credentials\n",
    "RASPBERRY_PI_IP = \"100.73.143.76\"  # Update with your actual Pi IP\n",
    "USERNAME = \"shah\"  # Your Pi username\n",
    "PASSWORD = \"123456\"  # If using SSH key, remove this\n",
    "REMOTE_DIR = \"/home/shah/robot_control\"  # Pi directory\n",
    "\n",
    "# Initialize SSH client\n",
    "ssh = paramiko.SSHClient()\n",
    "ssh.set_missing_host_key_policy(paramiko.AutoAddPolicy())\n",
    "\n",
    "try:\n",
    "    print(\"\\n🔗 Connecting to Raspberry Pi...\")\n",
    "    ssh.connect(RASPBERRY_PI_IP, username=USERNAME, password=PASSWORD)\n",
    "\n",
    "    # Command to start robot_server.py in the background\n",
    "    start_command = f\"cd {REMOTE_DIR} && nohup python3 robot_server.py > server_log.txt 2>&1 &\"\n",
    "    \n",
    "    print(\"🚀 Starting robot server on Raspberry Pi...\")\n",
    "    stdin, stdout, stderr = ssh.exec_command(start_command)\n",
    "\n",
    "    # Check if there were any errors\n",
    "    error_output = stderr.read().decode().strip()\n",
    "    if error_output:\n",
    "        print(f\"❌ Error: {error_output}\")\n",
    "    else:\n",
    "        print(\"Please ssh and run sudo pigpiod in terminal\")\n",
    "\n",
    "except Exception as e:\n",
    "    print(f\"❌ Error: {e}\")\n",
    "\n",
    "finally:\n",
    "    ssh.close()\n",
    "    print(\"🔌 Disconnected from Raspberry Pi.\")\n"
   ]
  },
  {
   "cell_type": "code",
   "execution_count": null,
   "id": "8c97add4-6b78-4685-8f76-cf491d571cee",
   "metadata": {},
   "outputs": [],
   "source": []
  }
 ],
 "metadata": {
  "kernelspec": {
   "display_name": "Python 3 (ipykernel)",
   "language": "python",
   "name": "python3"
  },
  "language_info": {
   "codemirror_mode": {
    "name": "ipython",
    "version": 3
   },
   "file_extension": ".py",
   "mimetype": "text/x-python",
   "name": "python",
   "nbconvert_exporter": "python",
   "pygments_lexer": "ipython3",
   "version": "3.10.9"
  }
 },
 "nbformat": 4,
 "nbformat_minor": 5
}
